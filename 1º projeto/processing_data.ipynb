{
 "cells": [
  {
   "cell_type": "code",
   "execution_count": 1,
   "metadata": {},
   "outputs": [],
   "source": [
    "import pandas as pd\n",
    "import numpy as np\n",
    "import matplotlib.pyplot as plt\n",
    "\n",
    "from sklearn.linear_model import Perceptron\n",
    "from sklearn.linear_model import LinearRegression\n",
    "from sklearn.linear_model import LogisticRegression\n",
    "\n",
    "%matplotlib inline"
   ]
  },
  {
   "cell_type": "code",
   "execution_count": 2,
   "metadata": {},
   "outputs": [],
   "source": [
    "test_filename = 'test.csv'\n",
    "train_filename = 'train.csv'\n",
    "test_df = pd.read_csv(test_filename)\n",
    "train_df = pd.read_csv(train_filename)\n",
    "\n",
    "# Remove the first column\n",
    "np_train_df = train_df.to_numpy()[:, 1:]\n",
    "np_test_df = test_df.to_numpy()[:, 1:]\n",
    "\n",
    "# CONSTRAINTS\n",
    "DIGIT = 0\n",
    "FIRST_PIXEL = 1"
   ]
  },
  {
   "cell_type": "markdown",
   "metadata": {},
   "source": [
    "### Funções utilitárias"
   ]
  },
  {
   "cell_type": "code",
   "execution_count": 3,
   "metadata": {
    "id": "C4mxonnMkKx3"
   },
   "outputs": [],
   "source": [
    "def pos_pixel(size, i ,j):\n",
    "  return i*size + j\n",
    "\n",
    "def symmetry(image):\n",
    "  size = 28\n",
    "  sv = 0\n",
    "  sh = 0\n",
    "  \n",
    "  for i in range(size):\n",
    "    for j in range(int(size/2)):\n",
    "      p1 = image[pos_pixel(size, i, j)]\n",
    "      p2 = image[pos_pixel(size, i, (size-1)-j)]\n",
    "      sv += abs(p1 - p2)\n",
    "            \n",
    "      p1 = image[pos_pixel(size, j, i)]\n",
    "      p2 = image[pos_pixel(size, (size-1)-j, i)]\n",
    "      sh += abs(p1 - p2)\n",
    "\n",
    "  sv = sv/255\n",
    "  sh = sh/255\n",
    "        \n",
    "  #s = sv\n",
    "  #s = sh\n",
    "  #s = pow(sv + sh, 2)\n",
    "  s = sv + sh\n",
    "  #s = abs(sv - sh)\n",
    "  \n",
    "  return s\n",
    "  \n",
    "def intensity(image):\n",
    "  return (np.sum(image)/255.0)\n",
    "\n",
    "\n",
    "def get_numbers_1_and_5(df):\n",
    "  filtered_data = []\n",
    "\n",
    "  for item in df:\n",
    "    if(item[0] == 1 or item[0] == 5):\n",
    "      filtered_data.append(item.tolist())\n",
    "\n",
    "  return filtered_data\n",
    "  "
   ]
  },
  {
   "cell_type": "markdown",
   "metadata": {},
   "source": [
    "### Classificação dos números 1 e 5"
   ]
  },
  {
   "cell_type": "markdown",
   "metadata": {},
   "source": [
    "Dados de treinamento"
   ]
  },
  {
   "cell_type": "code",
   "execution_count": 21,
   "metadata": {},
   "outputs": [],
   "source": [
    "new_train_df = []\n",
    "images = get_numbers_1_and_5(np_train_df)\n",
    "\n",
    "for image in images:\n",
    "  symmetry_ = symmetry(image[FIRST_PIXEL:])\n",
    "  intensity_ = intensity(image[FIRST_PIXEL:])\n",
    "\n",
    "  new_train_df.append([image[DIGIT], symmetry_, intensity_])"
   ]
  },
  {
   "cell_type": "markdown",
   "metadata": {},
   "source": [
    "Dados de teste"
   ]
  },
  {
   "cell_type": "code",
   "execution_count": 22,
   "metadata": {},
   "outputs": [],
   "source": [
    "new_test_df = []\n",
    "images = get_numbers_1_and_5(np_test_df)\n",
    "\n",
    "for image in images:\n",
    "  symmetry_ = symmetry(image[FIRST_PIXEL:])\n",
    "  intensity_ = intensity(image[FIRST_PIXEL:])\n",
    "\n",
    "  new_test_df.append([image[DIGIT], symmetry_, intensity_])"
   ]
  },
  {
   "cell_type": "markdown",
   "metadata": {},
   "source": [
    "### Classificação de todos os dígitos"
   ]
  },
  {
   "cell_type": "markdown",
   "metadata": {},
   "source": [
    "Dados de treinamento"
   ]
  },
  {
   "cell_type": "code",
   "execution_count": 21,
   "metadata": {},
   "outputs": [],
   "source": [
    "new_train_df = []\n",
    "\n",
    "for image in np_train_df:\n",
    "  symmetry_ = symmetry(image[FIRST_PIXEL:])\n",
    "  intensity_ = intensity(image[FIRST_PIXEL:])\n",
    "\n",
    "  new_train_df.append([image[DIGIT], symmetry_, intensity_])\n",
    "\n",
    "new_train_df = np.array(new_train_df)"
   ]
  },
  {
   "cell_type": "markdown",
   "metadata": {},
   "source": [
    "Dados de teste"
   ]
  },
  {
   "cell_type": "code",
   "execution_count": 22,
   "metadata": {},
   "outputs": [],
   "source": [
    "new_test_df = []\n",
    "\n",
    "for image in np_test_df:\n",
    "  symmetry_ = symmetry(image[FIRST_PIXEL:])\n",
    "  intensity_ = intensity(image[FIRST_PIXEL:])\n",
    "\n",
    "  new_test_df.append([image[DIGIT], symmetry_, intensity_])\n",
    "\n",
    "new_test_df = np.array(new_test_df)"
   ]
  },
  {
   "cell_type": "code",
   "execution_count": 26,
   "metadata": {},
   "outputs": [
    {
     "data": {
      "text/plain": [
       "<bound method ClassifierMixin.score of Perceptron(random_state=42)>"
      ]
     },
     "execution_count": 26,
     "metadata": {},
     "output_type": "execute_result"
    }
   ],
   "source": [
    "# PERCEPTRON\n",
    "pla_model = Perceptron(shuffle=True, random_state=42)\n",
    "pla_model.fit(new_train_df, new_train_df[:, :1].ravel())\n",
    "\n",
    "# LINEAR REGRESSION\n",
    "\n",
    "# LOGISTIC REGRESSION"
   ]
  },
  {
   "cell_type": "code",
   "execution_count": null,
   "metadata": {
    "id": "FGz_UVjeSzp7"
   },
   "outputs": [],
   "source": [
    "new_train_df = []\n",
    "new_test_df = []\n",
    "\n",
    "for row in train_df.iterrows():\n",
    "    data_row = row[1]\n",
    "\n",
    "    id = data_row[0]\n",
    "    label = data_row[1]\n",
    "    imagem = data_row[2:]\n",
    "\n",
    "    intensity_ = intensity(imagem)\n",
    "    symmetry_ = symmetry(imagem)\n",
    "    new_train_df.append([label,intensity_,symmetry_])\n",
    "\n",
    "for row in test_df.iterrows():\n",
    "    data_row = row[1]\n",
    "\n",
    "    id = data_row[0]\n",
    "    label = data_row[1]\n",
    "    imagem = data_row[2:]\n",
    "\n",
    "    intensity_ = intensity(imagem)\n",
    "    symmetry_ = symmetry(imagem)\n",
    "    new_test_df.append([label,intensity_,symmetry_])"
   ]
  },
  {
   "cell_type": "code",
   "execution_count": 4,
   "metadata": {
    "id": "PNr7JQM4sXve"
   },
   "outputs": [],
   "source": [
    "new_train_df = pd.DataFrame(new_train_df, columns=['label', 'intensity', 'symmetry'])\n",
    "new_test_df = pd.DataFrame(new_test_df, columns=['label', 'intensity', 'symmetry'])"
   ]
  },
  {
   "cell_type": "code",
   "execution_count": 5,
   "metadata": {
    "id": "tJOwBQHLsXvf"
   },
   "outputs": [],
   "source": [
    "new_test_df.to_csv('test_redu.csv', index= False)\n",
    "new_train_df.to_csv('train_redu.csv', index= False)"
   ]
  }
 ],
 "metadata": {
  "colab": {
   "collapsed_sections": [],
   "provenance": []
  },
  "kernelspec": {
   "display_name": "Python 3.10.4 ('ufpb')",
   "language": "python",
   "name": "python3"
  },
  "language_info": {
   "codemirror_mode": {
    "name": "ipython",
    "version": 3
   },
   "file_extension": ".py",
   "mimetype": "text/x-python",
   "name": "python",
   "nbconvert_exporter": "python",
   "pygments_lexer": "ipython3",
   "version": "3.10.4"
  },
  "vscode": {
   "interpreter": {
    "hash": "6c245dbadf8928f9440a814283e41d21fcdb6faae853c6ba3d972269b28d83b3"
   }
  }
 },
 "nbformat": 4,
 "nbformat_minor": 1
}
