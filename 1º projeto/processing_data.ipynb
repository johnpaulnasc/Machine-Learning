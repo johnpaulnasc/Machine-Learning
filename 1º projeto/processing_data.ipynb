{
 "cells": [
  {
   "cell_type": "code",
   "execution_count": 1,
   "metadata": {
    "id": "vw8rqU9zsXvS"
   },
   "outputs": [],
   "source": [
    "import pandas as pd\n",
    "import numpy as np\n",
    "import matplotlib.pyplot as plt\n",
    "%matplotlib inline\n",
    "\n",
    "test_filename = 'test.csv'\n",
    "train_filename = 'train.csv'\n",
    "test_df = pd.read_csv(test_filename)\n",
    "train_df = pd.read_csv(train_filename)\n",
    "\n"
   ]
  },
  {
   "cell_type": "code",
   "execution_count": 2,
   "metadata": {
    "id": "C4mxonnMkKx3"
   },
   "outputs": [],
   "source": [
    "def pos_pixel(size, i ,j):\n",
    "    return i*size + j\n",
    "\n",
    "def symmetry(image):\n",
    "  size = 28\n",
    "  sv = 0\n",
    "  sh = 0\n",
    "  for i in range(size):\n",
    "      for j in range(int(size/2)):\n",
    "        \n",
    "          p1 = image[pos_pixel(size, i, j)]\n",
    "          p2 = image[pos_pixel(size, i, (size-1)-j)]\n",
    "          sv += abs(p1 - p2)\n",
    "                \n",
    "          p1 = image[pos_pixel(size, j, i)]\n",
    "          p2 = image[pos_pixel(size, (size-1)-j, i)]\n",
    "          sh += abs(p1 - p2)\n",
    "\n",
    "  sv = sv/255\n",
    "  sh = sh/255\n",
    "        \n",
    "  #s = sv\n",
    "  #s = sh\n",
    "  #s = pow(sv + sh, 2)\n",
    "  s = sv + sh\n",
    "  #s = abs(sv - sh)\n",
    "\n",
    "        \n",
    "  return (s)\n",
    "  \n",
    "def intensity(image):\n",
    "  return (np.sum(image)/255.0)"
   ]
  },
  {
   "cell_type": "code",
   "execution_count": 3,
   "metadata": {
    "id": "FGz_UVjeSzp7"
   },
   "outputs": [],
   "source": [
    "new_train_df = []\n",
    "new_test_df = []\n",
    "\n",
    "for row in train_df.iterrows():\n",
    "    data_row = row[1]\n",
    "\n",
    "    id = data_row[0]\n",
    "    label = data_row[1]\n",
    "    imagem = data_row[2:]\n",
    "\n",
    "    intensity_ = intensity(imagem)\n",
    "    symmetry_ = symmetry(imagem)\n",
    "    new_train_df.append([label,intensity_,symmetry_])\n",
    "\n",
    "for row in test_df.iterrows():\n",
    "    data_row = row[1]\n",
    "\n",
    "    id = data_row[0]\n",
    "    label = data_row[1]\n",
    "    imagem = data_row[2:]\n",
    "\n",
    "    intensity_ = intensity(imagem)\n",
    "    symmetry_ = symmetry(imagem)\n",
    "    new_test_df.append([label,intensity_,symmetry_])"
   ]
  },
  {
   "cell_type": "code",
   "execution_count": 4,
   "metadata": {
    "id": "PNr7JQM4sXve"
   },
   "outputs": [],
   "source": [
    "new_train_df = pd.DataFrame(new_train_df, columns=['label', 'intensity', 'symmetry'])\n",
    "new_test_df = pd.DataFrame(new_test_df, columns=['label', 'intensity', 'symmetry'])"
   ]
  },
  {
   "cell_type": "code",
   "execution_count": 5,
   "metadata": {
    "id": "tJOwBQHLsXvf"
   },
   "outputs": [],
   "source": [
    "new_test_df.to_csv('test_redu.csv', index= False)\n",
    "new_train_df.to_csv('train_redu.csv', index= False)"
   ]
  }
 ],
 "metadata": {
  "colab": {
   "collapsed_sections": [],
   "provenance": []
  },
  "interpreter": {
   "hash": "df0893f56f349688326838aaeea0de204df53a132722cbd565e54b24a8fec5f6"
  },
  "kernelspec": {
   "display_name": "Python 3 (ipykernel)",
   "language": "python",
   "name": "python3"
  },
  "language_info": {
   "codemirror_mode": {
    "name": "ipython",
    "version": 3
   },
   "file_extension": ".py",
   "mimetype": "text/x-python",
   "name": "python",
   "nbconvert_exporter": "python",
   "pygments_lexer": "ipython3",
   "version": "3.10.7"
  }
 },
 "nbformat": 4,
 "nbformat_minor": 1
}
