{
 "cells": [
  {
   "cell_type": "code",
   "execution_count": null,
   "metadata": {},
   "outputs": [],
   "source": [
    "import pandas as pd\n",
    "import numpy as np"
   ]
  },
  {
   "cell_type": "code",
   "execution_count": null,
   "metadata": {},
   "outputs": [],
   "source": [
    "test_file_path = './datasets/test.csv'\n",
    "train_file_path = './datasets/train.csv'\n",
    "test_df = pd.read_csv(test_file_path)\n",
    "train_df = pd.read_csv(train_file_path)\n",
    "\n",
    "# Remove the first column\n",
    "np_train_df = train_df.to_numpy()[:, 1:]\n",
    "np_test_df = test_df.to_numpy()[:, 1:]\n",
    "\n",
    "# CONSTRAINTS\n",
    "DIGIT = 0\n",
    "FIRST_PIXEL = 1"
   ]
  },
  {
   "cell_type": "code",
   "execution_count": null,
   "metadata": {},
   "outputs": [],
   "source": [
    "def pos_pixel(size, i ,j):\n",
    "  return i*size + j\n",
    "\n",
    "def symmetry(image):\n",
    "  size = 28\n",
    "  sv = 0\n",
    "  sh = 0\n",
    "  \n",
    "  for i in range(size):\n",
    "    for j in range(int(size/2)):\n",
    "      p1 = image[pos_pixel(size, i, j)]\n",
    "      p2 = image[pos_pixel(size, i, (size-1)-j)]\n",
    "      sv += abs(p1 - p2)\n",
    "            \n",
    "      p1 = image[pos_pixel(size, j, i)]\n",
    "      p2 = image[pos_pixel(size, (size-1)-j, i)]\n",
    "      sh += abs(p1 - p2)\n",
    "\n",
    "  sv = sv/255\n",
    "  sh = sh/255\n",
    "\n",
    "  s = sv + sh\n",
    "  \n",
    "  return s\n",
    "  \n",
    "def intensity(image):\n",
    "  return (np.sum(image)/255.0)\n",
    "\n",
    "\n",
    "def get_numbers_1_and_5(df):\n",
    "  filtered_data = []\n",
    "\n",
    "  for item in df:\n",
    "    if(item[0] == 1 or item[0] == 5):\n",
    "      filtered_data.append(item.tolist())\n",
    "\n",
    "  return filtered_data\n",
    "  "
   ]
  },
  {
   "cell_type": "code",
   "execution_count": null,
   "metadata": {},
   "outputs": [],
   "source": [
    "new_train_df = []\n",
    "images = get_numbers_1_and_5(np_train_df)\n",
    "\n",
    "for image in images:\n",
    "  symmetry_ = symmetry(image[FIRST_PIXEL:])\n",
    "  intensity_ = intensity(image[FIRST_PIXEL:])\n",
    "\n",
    "  label = -1 if image[DIGIT] == 1 else 1\n",
    "\n",
    "  new_train_df.append([label, intensity_, symmetry_])\n",
    "\n",
    "new_train_df = np.array(new_train_df)"
   ]
  },
  {
   "cell_type": "code",
   "execution_count": null,
   "metadata": {},
   "outputs": [],
   "source": [
    "new_test_df = []\n",
    "images = get_numbers_1_and_5(np_test_df)\n",
    "\n",
    "for image in images:\n",
    "  symmetry_ = symmetry(image[FIRST_PIXEL:])\n",
    "  intensity_ = intensity(image[FIRST_PIXEL:])\n",
    "\n",
    "  label = -1 if image[DIGIT] == 1 else 1\n",
    "\n",
    "  new_test_df.append([label, intensity_, symmetry_,])\n",
    "\n",
    "new_test_df = np.array(new_test_df)"
   ]
  },
  {
   "cell_type": "code",
   "execution_count": null,
   "metadata": {},
   "outputs": [],
   "source": [
    "class Perceptron:\n",
    "  def __init__(self, max_iter):\n",
    "    self.max_iter = max_iter\n",
    "\n",
    "  def constroi_lista_pci(self, _X, w):\n",
    "    X, y = _X[:, :-1], _X[:, -1] \n",
    "    lista_pci = []\n",
    "\n",
    "    for x_n, y_n in zip(X, y):  #para cada ponto do conjunto de treinamento\n",
    "      y_pred = np.sign(np.dot(x_n, self.w))  #calcula o y predito\n",
    "\n",
    "      if y_pred != y_n: #se o y predito for diferente do y real\n",
    "        lista_pci.append([*x_n, y_n])\n",
    "\n",
    "    return np.array(lista_pci) #retorna a lista de pontos de classificação incorreta\n",
    "\n",
    "  def PLA(self, _X, _y): # função para treinar o perceptron\n",
    "    self.w = np.zeros(_X[0].shape) # inicializa os pesos com 0\n",
    "    X = np.hstack((_X, _y.reshape(-1,1)))\n",
    "    lista_pci = X # inicializa a lista de pontos de classificação incorreta com o conjunto de treinamento\n",
    "\n",
    "    while len(lista_pci) > 0: #enquanto a lista de pontos de classificação incorreta não estiver vazia\n",
    "      sample = np.random.randint(0, len(lista_pci) - 1, size=1)[0] #escolhe um ponto aleatório da lista de pontos de classificação incorreta\n",
    "      ponto_aleatorio = lista_pci[sample] #pega o ponto aleatório\n",
    "      x, y = ponto_aleatorio[:-1], ponto_aleatorio[-1]   #separa o ponto em x e y\n",
    "\n",
    "      # Atualiza os pesos\n",
    "      self.w = self.w + x * y\n",
    "      lista_pci = self.constroi_lista_pci(X, self.w) #atualiza a lista de pontos de classificação incorreta\n",
    "\n",
    "      if len(lista_pci) < menor_numero_pontos: # se o tamanho da lista de pontos de classificação incorreta for menor que o menor número de pontos \n",
    "        menor_numero_pontos = len(lista_pci) #atualiza o menor número de pontos"
   ]
  },
  {
   "cell_type": "code",
   "execution_count": null,
   "metadata": {},
   "outputs": [],
   "source": [
    "def PLA_predict(X_test,w):\n",
    "\n",
    "    preds = np.sign(np.dot(X_test,w))\n",
    "\n",
    "    return np.where(preds == 1.0, 1, 5)"
   ]
  },
  {
   "cell_type": "code",
   "execution_count": null,
   "metadata": {},
   "outputs": [],
   "source": [
    "# PERCEPTRON\n",
    "\n",
    "pla = Perceptron()\n",
    "pla.PLA(new_train_df[:, 1:], new_train_df[:, 0])\n"
   ]
  },
  {
   "cell_type": "code",
   "execution_count": null,
   "metadata": {},
   "outputs": [],
   "source": [
    "teste = [[1], [2], [3], [4], [5], [6]]\n",
    "teste = np.array(teste)\n",
    "\n",
    "print(type(teste))\n",
    "print(type(teste[0]))"
   ]
  }
 ],
 "metadata": {
  "kernelspec": {
   "display_name": "Python 3.10.7 64-bit (microsoft store)",
   "language": "python",
   "name": "python3"
  },
  "language_info": {
   "codemirror_mode": {
    "name": "ipython",
    "version": 3
   },
   "file_extension": ".py",
   "mimetype": "text/x-python",
   "name": "python",
   "nbconvert_exporter": "python",
   "pygments_lexer": "ipython3",
   "version": "3.10.7"
  },
  "orig_nbformat": 4,
  "vscode": {
   "interpreter": {
    "hash": "fbecd73ade85d12c2881eabd846ca0b9312a20e7bf712c138044a9dc0e27360d"
   }
  }
 },
 "nbformat": 4,
 "nbformat_minor": 2
}
