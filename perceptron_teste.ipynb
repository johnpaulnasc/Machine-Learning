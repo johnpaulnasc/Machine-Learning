{
 "cells": [
  {
   "cell_type": "code",
   "execution_count": 1,
   "metadata": {},
   "outputs": [],
   "source": [
    "import pandas as pd\n",
    "import numpy as np"
   ]
  },
  {
   "cell_type": "code",
   "execution_count": 2,
   "metadata": {},
   "outputs": [],
   "source": [
    "test_file_path = './datasets/test.csv'\n",
    "train_file_path = './datasets/train.csv'\n",
    "test_df = pd.read_csv(test_file_path)\n",
    "train_df = pd.read_csv(train_file_path)\n",
    "\n",
    "# Remove the first column\n",
    "np_train_df = train_df.to_numpy()[:, 1:]\n",
    "np_test_df = test_df.to_numpy()[:, 1:]\n",
    "\n",
    "# CONSTRAINTS\n",
    "DIGIT = 0\n",
    "FIRST_PIXEL = 1"
   ]
  },
  {
   "cell_type": "code",
   "execution_count": 3,
   "metadata": {},
   "outputs": [],
   "source": [
    "def pos_pixel(size, i ,j):\n",
    "  return i*size + j\n",
    "\n",
    "def symmetry(image):\n",
    "  size = 28\n",
    "  sv = 0\n",
    "  sh = 0\n",
    "  \n",
    "  for i in range(size):\n",
    "    for j in range(int(size/2)):\n",
    "      p1 = image[pos_pixel(size, i, j)]\n",
    "      p2 = image[pos_pixel(size, i, (size-1)-j)]\n",
    "      sv += abs(p1 - p2)\n",
    "            \n",
    "      p1 = image[pos_pixel(size, j, i)]\n",
    "      p2 = image[pos_pixel(size, (size-1)-j, i)]\n",
    "      sh += abs(p1 - p2)\n",
    "\n",
    "  sv = sv/255\n",
    "  sh = sh/255\n",
    "\n",
    "  s = sv + sh\n",
    "  \n",
    "  return s\n",
    "  \n",
    "def intensity(image):\n",
    "  return (np.sum(image)/255.0)\n",
    "\n",
    "\n",
    "def get_numbers_1_and_5(df):\n",
    "  filtered_data = []\n",
    "\n",
    "  for item in df:\n",
    "    if(item[0] == 1 or item[0] == 5):\n",
    "      filtered_data.append(item.tolist())\n",
    "\n",
    "  return filtered_data\n",
    "\n",
    "def add_1_column(X):\n",
    "  ones_list = map(lambda i: [1, i[0], i[1]], X)\n",
    "  return np.array(list(ones_list))\n",
    "  "
   ]
  },
  {
   "cell_type": "code",
   "execution_count": 4,
   "metadata": {},
   "outputs": [],
   "source": [
    "new_train_df = []\n",
    "images = get_numbers_1_and_5(np_train_df)\n",
    "\n",
    "for image in images:\n",
    "  symmetry_ = symmetry(image[FIRST_PIXEL:])\n",
    "  intensity_ = intensity(image[FIRST_PIXEL:])\n",
    "\n",
    "  label = -1 if image[DIGIT] == 1 else 1\n",
    "\n",
    "  new_train_df.append([label, intensity_, symmetry_])\n",
    "\n",
    "new_train_df = np.array(new_train_df)"
   ]
  },
  {
   "cell_type": "code",
   "execution_count": 5,
   "metadata": {},
   "outputs": [],
   "source": [
    "new_test_df = []\n",
    "images = get_numbers_1_and_5(np_test_df)\n",
    "\n",
    "for image in images:\n",
    "  symmetry_ = symmetry(image[FIRST_PIXEL:])\n",
    "  intensity_ = intensity(image[FIRST_PIXEL:])\n",
    "\n",
    "  label = -1 if image[DIGIT] == 1 else 1\n",
    "\n",
    "  new_test_df.append([label, intensity_, symmetry_,])\n",
    "\n",
    "new_test_df = np.array(new_test_df)"
   ]
  },
  {
   "cell_type": "code",
   "execution_count": 26,
   "metadata": {},
   "outputs": [],
   "source": [
    "class Perceptron:\n",
    "  def __init__(self, max_iter):\n",
    "    self.max_iter = max_iter\n",
    "\n",
    "  def fit(self, _X, _y):\n",
    "    dimension = len(_X[0])\n",
    "    self.w = 2 * np.random.random(size=dimension) - 1\n",
    "    self.best_error = dimension\n",
    "    best_w = self.w\n",
    "    \n",
    "    for i in range(self.max_iter):\n",
    "\n",
    "      for x_n, y_n in zip(_X, _y):\n",
    "        y_pred = np.sign(np.dot(x_n[1:], self.w[1:]) + (x_n[0] * self.w[0]))\n",
    "\n",
    "        if y_pred != y_n:\n",
    "          self.w = self.w + x_n * y_n\n",
    "          error = self.__error_in(zip(_X, _y))\n",
    "          if self.best_error > error:\n",
    "            self.best_error = error\n",
    "            best = self.w\n",
    "      \n",
    "      self.w = best_w\n",
    "\n",
    "  def predict(self, x_test, first_digit, second_digit):\n",
    "    y_pred = np.sign(np.dot(x_test, self.w))\n",
    "    return np.where(y_pred == -1.0, first_digit, second_digit)\n",
    "\n",
    "  def get_weights(self):\n",
    "    return self.w[1:]\n",
    "\n",
    "  def get_bias(self):\n",
    "    return self.w[0]\n",
    "\n",
    "  # Private\n",
    "\n",
    "  def __error_in(self, points):\n",
    "    error = 0\n",
    "\n",
    "    for x_n, y_n in points:\n",
    "      y_pred = np.sign(np.dot(x_n, self.w))\n",
    "      error += 1 if y_pred != y_n else 0\n",
    "\n",
    "    return error"
   ]
  },
  {
   "cell_type": "code",
   "execution_count": null,
   "metadata": {},
   "outputs": [],
   "source": [
    "def PLA_predict(X_test,w):\n",
    "\n",
    "    preds = np.sign(np.dot(X_test,w))\n",
    "\n",
    "    return np.where(preds == 1.0, 1, 5)"
   ]
  },
  {
   "cell_type": "code",
   "execution_count": 27,
   "metadata": {},
   "outputs": [],
   "source": [
    "# PERCEPTRON\n",
    "\n",
    "pla = Perceptron(1)\n",
    "pla.fit(add_1_column(new_train_df[:, 1:]), new_train_df[:, 0])\n"
   ]
  },
  {
   "cell_type": "code",
   "execution_count": 28,
   "metadata": {},
   "outputs": [
    {
     "data": {
      "text/plain": [
       "array([-0.0679487 ,  0.76251975])"
      ]
     },
     "execution_count": 28,
     "metadata": {},
     "output_type": "execute_result"
    }
   ],
   "source": [
    "pla.get_weights()"
   ]
  },
  {
   "cell_type": "code",
   "execution_count": 29,
   "metadata": {},
   "outputs": [
    {
     "data": {
      "text/plain": [
       "0.3822019509301895"
      ]
     },
     "execution_count": 29,
     "metadata": {},
     "output_type": "execute_result"
    }
   ],
   "source": [
    "pla.get_bias()"
   ]
  },
  {
   "cell_type": "code",
   "execution_count": 13,
   "metadata": {},
   "outputs": [
    {
     "data": {
      "text/plain": [
       "numpy.ndarray"
      ]
     },
     "execution_count": 13,
     "metadata": {},
     "output_type": "execute_result"
    }
   ],
   "source": [
    "type(pla.w)"
   ]
  }
 ],
 "metadata": {
  "kernelspec": {
   "display_name": "Python 3.10.4 ('ufpb')",
   "language": "python",
   "name": "python3"
  },
  "language_info": {
   "codemirror_mode": {
    "name": "ipython",
    "version": 3
   },
   "file_extension": ".py",
   "mimetype": "text/x-python",
   "name": "python",
   "nbconvert_exporter": "python",
   "pygments_lexer": "ipython3",
   "version": "3.10.4"
  },
  "orig_nbformat": 4,
  "vscode": {
   "interpreter": {
    "hash": "6c245dbadf8928f9440a814283e41d21fcdb6faae853c6ba3d972269b28d83b3"
   }
  }
 },
 "nbformat": 4,
 "nbformat_minor": 2
}
